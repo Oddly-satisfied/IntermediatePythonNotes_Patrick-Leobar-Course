{
 "cells": [
  {
   "cell_type": "markdown",
   "id": "34b995e1",
   "metadata": {},
   "source": [
    "# Collections: Counter, namedtuple, OrderDict, defaultdict, deque"
   ]
  },
  {
   "cell_type": "code",
   "execution_count": 13,
   "id": "49394b9c",
   "metadata": {},
   "outputs": [],
   "source": [
    "from collections import Counter, namedtuple, defaultdict, OrderedDict, deque"
   ]
  },
  {
   "cell_type": "markdown",
   "id": "d3847e17",
   "metadata": {},
   "source": [
    "## 1. Counter"
   ]
  },
  {
   "cell_type": "code",
   "execution_count": 4,
   "id": "72b906a6",
   "metadata": {},
   "outputs": [
    {
     "data": {
      "text/plain": [
       "Counter({'a': 6, 'b': 4, 'd': 4, 'f': 1})"
      ]
     },
     "execution_count": 4,
     "metadata": {},
     "output_type": "execute_result"
    }
   ],
   "source": [
    "a = \"aaaaaabbbbdddfd\"\n",
    "count = Counter(a)\n",
    "count"
   ]
  },
  {
   "cell_type": "code",
   "execution_count": 5,
   "id": "1d14b781",
   "metadata": {},
   "outputs": [
    {
     "data": {
      "text/plain": [
       "dict_keys(['a', 'b', 'd', 'f'])"
      ]
     },
     "execution_count": 5,
     "metadata": {},
     "output_type": "execute_result"
    }
   ],
   "source": [
    "count.keys()"
   ]
  },
  {
   "cell_type": "code",
   "execution_count": 6,
   "id": "369bb2cb",
   "metadata": {},
   "outputs": [
    {
     "data": {
      "text/plain": [
       "dict_values([6, 4, 4, 1])"
      ]
     },
     "execution_count": 6,
     "metadata": {},
     "output_type": "execute_result"
    }
   ],
   "source": [
    "count.values()"
   ]
  },
  {
   "cell_type": "code",
   "execution_count": 7,
   "id": "f7f0eec7",
   "metadata": {},
   "outputs": [
    {
     "data": {
      "text/plain": [
       "[('a', 6)]"
      ]
     },
     "execution_count": 7,
     "metadata": {},
     "output_type": "execute_result"
    }
   ],
   "source": [
    "count.most_common(1)"
   ]
  },
  {
   "cell_type": "code",
   "execution_count": 9,
   "id": "e397e667",
   "metadata": {},
   "outputs": [
    {
     "data": {
      "text/plain": [
       "'a'"
      ]
     },
     "execution_count": 9,
     "metadata": {},
     "output_type": "execute_result"
    }
   ],
   "source": [
    "count.most_common(1)[0][0]"
   ]
  },
  {
   "cell_type": "code",
   "execution_count": 11,
   "id": "bdca6df1",
   "metadata": {},
   "outputs": [
    {
     "data": {
      "text/plain": [
       "['a', 'a', 'a', 'a', 'a', 'a', 'b', 'b', 'b', 'b', 'd', 'd', 'd', 'd', 'f']"
      ]
     },
     "execution_count": 11,
     "metadata": {},
     "output_type": "execute_result"
    }
   ],
   "source": [
    "list(count.elements())"
   ]
  },
  {
   "cell_type": "markdown",
   "id": "4969965c",
   "metadata": {},
   "source": [
    "## 2. namedtuple"
   ]
  },
  {
   "cell_type": "code",
   "execution_count": 14,
   "id": "8d698c30",
   "metadata": {},
   "outputs": [
    {
     "data": {
      "text/plain": [
       "point(x=1, y=-1)"
      ]
     },
     "execution_count": 14,
     "metadata": {},
     "output_type": "execute_result"
    }
   ],
   "source": [
    "point = namedtuple('point', 'x, y')\n",
    "pt = point(1, -1)\n",
    "pt"
   ]
  },
  {
   "cell_type": "markdown",
   "id": "f9bdbcda",
   "metadata": {},
   "source": [
    "## 3. OrderedDict"
   ]
  },
  {
   "cell_type": "code",
   "execution_count": null,
   "id": "290e5e48",
   "metadata": {},
   "outputs": [],
   "source": []
  },
  {
   "cell_type": "code",
   "execution_count": null,
   "id": "ebcd59ee",
   "metadata": {},
   "outputs": [
    {
     "data": {
      "text/plain": [
       "{'a': 1, 'b': 2, 'c': 3, 'd': 1}"
      ]
     },
     "execution_count": 18,
     "metadata": {},
     "output_type": "execute_result"
    }
   ],
   "source": [
    "ordered = OrderedDict()\n",
    "ordered = {} # Remembers the order of insertion\n",
    "ordered['a'] = 1\n",
    "ordered['b'] = 2\n",
    "ordered['c'] = 3\n",
    "ordered['d'] = 4\n",
    "ordered"
   ]
  },
  {
   "cell_type": "markdown",
   "id": "ed279515",
   "metadata": {},
   "source": [
    "## 4. defaultdict"
   ]
  },
  {
   "cell_type": "code",
   "execution_count": 19,
   "id": "e123d013",
   "metadata": {},
   "outputs": [
    {
     "name": "stdout",
     "output_type": "stream",
     "text": [
      "2\n"
     ]
    }
   ],
   "source": [
    "d = defaultdict(int)\n",
    "d['a'] = 1\n",
    "d['b'] = 2\n",
    "d['c'] = 3\n",
    "d['d'] = 4\n",
    "print(d['b'])"
   ]
  },
  {
   "cell_type": "code",
   "execution_count": 20,
   "id": "f852c047",
   "metadata": {},
   "outputs": [
    {
     "name": "stdout",
     "output_type": "stream",
     "text": [
      "0\n"
     ]
    }
   ],
   "source": [
    "print(d['e']) # Returns 0, not an error"
   ]
  },
  {
   "cell_type": "markdown",
   "id": "f7b9437f",
   "metadata": {},
   "source": [
    "## 4. deque"
   ]
  },
  {
   "cell_type": "code",
   "execution_count": 21,
   "id": "ee94e02c",
   "metadata": {},
   "outputs": [
    {
     "data": {
      "text/plain": [
       "deque([1, 2, 3])"
      ]
     },
     "execution_count": 21,
     "metadata": {},
     "output_type": "execute_result"
    }
   ],
   "source": [
    "d = deque()\n",
    "d.append(1)\n",
    "d.append(2)\n",
    "d.append(3)\n",
    "d"
   ]
  },
  {
   "cell_type": "code",
   "execution_count": 22,
   "id": "9dd9f751",
   "metadata": {},
   "outputs": [
    {
     "data": {
      "text/plain": [
       "deque([1, 2])"
      ]
     },
     "execution_count": 22,
     "metadata": {},
     "output_type": "execute_result"
    }
   ],
   "source": [
    "d.pop()\n",
    "d"
   ]
  },
  {
   "cell_type": "code",
   "execution_count": 23,
   "id": "dfd78036",
   "metadata": {},
   "outputs": [
    {
     "data": {
      "text/plain": [
       "deque([2])"
      ]
     },
     "execution_count": 23,
     "metadata": {},
     "output_type": "execute_result"
    }
   ],
   "source": [
    "d.popleft()\n",
    "d"
   ]
  },
  {
   "cell_type": "code",
   "execution_count": 25,
   "id": "16d72fdb",
   "metadata": {},
   "outputs": [
    {
     "data": {
      "text/plain": [
       "deque([])"
      ]
     },
     "execution_count": 25,
     "metadata": {},
     "output_type": "execute_result"
    }
   ],
   "source": [
    "d.clear()\n",
    "d"
   ]
  },
  {
   "cell_type": "code",
   "execution_count": 26,
   "id": "367fd519",
   "metadata": {},
   "outputs": [
    {
     "data": {
      "text/plain": [
       "deque([1, 2, 3])"
      ]
     },
     "execution_count": 26,
     "metadata": {},
     "output_type": "execute_result"
    }
   ],
   "source": [
    "d.extend([1, 2, 3])\n",
    "d"
   ]
  },
  {
   "cell_type": "code",
   "execution_count": 27,
   "id": "50638250",
   "metadata": {},
   "outputs": [
    {
     "data": {
      "text/plain": [
       "deque([6, 5, 4, 1, 2, 3])"
      ]
     },
     "execution_count": 27,
     "metadata": {},
     "output_type": "execute_result"
    }
   ],
   "source": [
    "d.extendleft([4, 5, 6])\n",
    "d"
   ]
  },
  {
   "cell_type": "code",
   "execution_count": 28,
   "id": "66cef2e8",
   "metadata": {},
   "outputs": [
    {
     "data": {
      "text/plain": [
       "deque([3, 6, 5, 4, 1, 2])"
      ]
     },
     "execution_count": 28,
     "metadata": {},
     "output_type": "execute_result"
    }
   ],
   "source": [
    "d.rotate(1)\n",
    "d"
   ]
  },
  {
   "cell_type": "code",
   "execution_count": 29,
   "id": "13a1557b",
   "metadata": {},
   "outputs": [
    {
     "data": {
      "text/plain": [
       "deque([6, 5, 4, 1, 2, 3])"
      ]
     },
     "execution_count": 29,
     "metadata": {},
     "output_type": "execute_result"
    }
   ],
   "source": [
    "d.rotate(-1)\n",
    "d"
   ]
  },
  {
   "cell_type": "markdown",
   "id": "c9530156",
   "metadata": {},
   "source": [
    "# Itertools"
   ]
  },
  {
   "cell_type": "code",
   "execution_count": 54,
   "id": "0e18e75a",
   "metadata": {},
   "outputs": [],
   "source": [
    "from itertools import product, permutations, combinations,combinations_with_replacement, accumulate, groupby, count, cycle, repeat\n",
    "import operator"
   ]
  },
  {
   "cell_type": "markdown",
   "id": "a2b8e6e1",
   "metadata": {},
   "source": [
    "## 1. product"
   ]
  },
  {
   "cell_type": "code",
   "execution_count": null,
   "id": "51aca334",
   "metadata": {},
   "outputs": [
    {
     "data": {
      "text/plain": [
       "[(1, 4), (1, 5), (1, 6), (2, 4), (2, 5), (2, 6), (3, 4), (3, 5), (3, 6)]"
      ]
     },
     "execution_count": 34,
     "metadata": {},
     "output_type": "execute_result"
    }
   ],
   "source": [
    "a = [1, 2, 3]\n",
    "b = [4, 5, 6]\n",
    "prod = product(a, b) # Cartesian Product\n",
    "list(prod)"
   ]
  },
  {
   "cell_type": "code",
   "execution_count": 39,
   "id": "70ac1d16",
   "metadata": {},
   "outputs": [
    {
     "data": {
      "text/plain": [
       "[(1, 8), (1, 9), (2, 8), (2, 9)]"
      ]
     },
     "execution_count": 39,
     "metadata": {},
     "output_type": "execute_result"
    }
   ],
   "source": [
    "prod = product([1, 2], [8, 9], repeat = 1)\n",
    "list(prod)"
   ]
  },
  {
   "cell_type": "markdown",
   "id": "f7647c5b",
   "metadata": {},
   "source": [
    "## 2. permutations"
   ]
  },
  {
   "cell_type": "code",
   "execution_count": 40,
   "id": "540c259b",
   "metadata": {},
   "outputs": [
    {
     "data": {
      "text/plain": [
       "[(1, 2, 3), (1, 3, 2), (2, 1, 3), (2, 3, 1), (3, 1, 2), (3, 2, 1)]"
      ]
     },
     "execution_count": 40,
     "metadata": {},
     "output_type": "execute_result"
    }
   ],
   "source": [
    "perm = permutations(a)\n",
    "list(perm)"
   ]
  },
  {
   "cell_type": "code",
   "execution_count": 41,
   "id": "a8bf67a5",
   "metadata": {},
   "outputs": [
    {
     "data": {
      "text/plain": [
       "[(1, 2), (1, 3), (2, 1), (2, 3), (3, 1), (3, 2)]"
      ]
     },
     "execution_count": 41,
     "metadata": {},
     "output_type": "execute_result"
    }
   ],
   "source": [
    "perm = permutations([1, 2, 3], 2)\n",
    "list(perm)"
   ]
  },
  {
   "cell_type": "markdown",
   "id": "35d4c77e",
   "metadata": {},
   "source": [
    "## 3. combinations"
   ]
  },
  {
   "cell_type": "code",
   "execution_count": 42,
   "id": "2e500624",
   "metadata": {},
   "outputs": [
    {
     "data": {
      "text/plain": [
       "[(1, 2), (1, 3), (1, 4), (2, 3), (2, 4), (3, 4)]"
      ]
     },
     "execution_count": 42,
     "metadata": {},
     "output_type": "execute_result"
    }
   ],
   "source": [
    "a = [1, 2, 3, 4]\n",
    "comb = combinations(a, 2)\n",
    "list(comb)"
   ]
  },
  {
   "cell_type": "markdown",
   "id": "66e557fa",
   "metadata": {},
   "source": [
    "### combination_with_replacement"
   ]
  },
  {
   "cell_type": "code",
   "execution_count": 46,
   "id": "a91338a8",
   "metadata": {},
   "outputs": [
    {
     "data": {
      "text/plain": [
       "[(1, 1),\n",
       " (1, 2),\n",
       " (1, 3),\n",
       " (1, 4),\n",
       " (2, 2),\n",
       " (2, 3),\n",
       " (2, 4),\n",
       " (3, 3),\n",
       " (3, 4),\n",
       " (4, 4)]"
      ]
     },
     "execution_count": 46,
     "metadata": {},
     "output_type": "execute_result"
    }
   ],
   "source": [
    "comb = combinations_with_replacement(a, 2)\n",
    "list(comb)"
   ]
  },
  {
   "cell_type": "markdown",
   "id": "d9e4ba16",
   "metadata": {},
   "source": [
    "## 4. accumulate"
   ]
  },
  {
   "cell_type": "code",
   "execution_count": 49,
   "id": "efd9e6ac",
   "metadata": {},
   "outputs": [
    {
     "name": "stdout",
     "output_type": "stream",
     "text": [
      "[1, 2, 3, 4]\n"
     ]
    },
    {
     "data": {
      "text/plain": [
       "[1, 3, 6, 10]"
      ]
     },
     "execution_count": 49,
     "metadata": {},
     "output_type": "execute_result"
    }
   ],
   "source": [
    "acc = accumulate(a) # Works kinda like a prefix sum\n",
    "print(a)\n",
    "list(acc)"
   ]
  },
  {
   "cell_type": "code",
   "execution_count": 51,
   "id": "6f51f323",
   "metadata": {},
   "outputs": [
    {
     "name": "stdout",
     "output_type": "stream",
     "text": [
      "[1, 2, 3, 4]\n"
     ]
    },
    {
     "data": {
      "text/plain": [
       "[1, 2, 6, 24]"
      ]
     },
     "execution_count": 51,
     "metadata": {},
     "output_type": "execute_result"
    }
   ],
   "source": [
    "acc = accumulate(a, func=operator.mul) # Works kinda like a prefix product\n",
    "print(a)\n",
    "list(acc)"
   ]
  },
  {
   "cell_type": "markdown",
   "id": "8a446f26",
   "metadata": {},
   "source": [
    "## 5. groupby"
   ]
  },
  {
   "cell_type": "code",
   "execution_count": 53,
   "id": "0c37bbc5",
   "metadata": {},
   "outputs": [
    {
     "name": "stdout",
     "output_type": "stream",
     "text": [
      "False [1, 2]\n",
      "True [3, 4]\n"
     ]
    }
   ],
   "source": [
    "grp = groupby(a, key= lambda x: x > 2)\n",
    "for k, v in grp:\n",
    "    print(k, list(v))\n"
   ]
  },
  {
   "cell_type": "markdown",
   "id": "86bccc7f",
   "metadata": {},
   "source": [
    "## 6. count, cycle, repeat"
   ]
  },
  {
   "cell_type": "code",
   "execution_count": 58,
   "id": "ae9623f4",
   "metadata": {},
   "outputs": [
    {
     "name": "stdout",
     "output_type": "stream",
     "text": [
      "10\n",
      "11\n",
      "12\n",
      "13\n",
      "14\n",
      "15\n",
      "16\n",
      "17\n",
      "18\n",
      "19\n",
      "20\n",
      "21\n",
      "22\n",
      "23\n",
      "24\n",
      "25\n",
      "26\n",
      "27\n",
      "28\n",
      "29\n",
      "30\n",
      "31\n",
      "32\n",
      "33\n",
      "34\n",
      "35\n",
      "36\n",
      "37\n",
      "38\n",
      "39\n",
      "40\n",
      "41\n",
      "42\n",
      "43\n",
      "44\n",
      "45\n",
      "46\n",
      "47\n",
      "48\n",
      "49\n",
      "50\n",
      "51\n",
      "52\n",
      "53\n",
      "54\n",
      "55\n",
      "56\n",
      "57\n",
      "58\n",
      "59\n",
      "60\n",
      "61\n",
      "62\n",
      "63\n",
      "64\n",
      "65\n",
      "66\n",
      "67\n",
      "68\n",
      "69\n",
      "70\n",
      "71\n",
      "72\n",
      "73\n",
      "74\n",
      "75\n",
      "76\n",
      "77\n",
      "78\n",
      "79\n",
      "80\n",
      "81\n",
      "82\n",
      "83\n",
      "84\n",
      "85\n",
      "86\n",
      "87\n",
      "88\n",
      "89\n",
      "90\n",
      "91\n",
      "92\n",
      "93\n",
      "94\n",
      "95\n",
      "96\n",
      "97\n",
      "98\n",
      "99\n",
      "100\n"
     ]
    }
   ],
   "source": [
    "for i in count(10):\n",
    "    print(i)\n",
    "    if i == 100: break"
   ]
  },
  {
   "cell_type": "code",
   "execution_count": 59,
   "id": "56ee6fdc",
   "metadata": {},
   "outputs": [
    {
     "name": "stdout",
     "output_type": "stream",
     "text": [
      "a\n",
      "b\n",
      "c\n"
     ]
    }
   ],
   "source": [
    "for i in cycle('abc'):\n",
    "    print(i)\n",
    "    if i == 'c': break"
   ]
  },
  {
   "cell_type": "code",
   "execution_count": 62,
   "id": "fa572e07",
   "metadata": {},
   "outputs": [
    {
     "name": "stdout",
     "output_type": "stream",
     "text": [
      "10\n"
     ]
    }
   ],
   "source": [
    "for i in repeat(10):\n",
    "    print(i)\n",
    "    if i == 10: break"
   ]
  },
  {
   "cell_type": "markdown",
   "id": "e051ad90",
   "metadata": {},
   "source": [
    "# LOGGING"
   ]
  },
  {
   "cell_type": "code",
   "execution_count": 63,
   "id": "a3219046",
   "metadata": {},
   "outputs": [],
   "source": [
    "import logging"
   ]
  },
  {
   "cell_type": "code",
   "execution_count": 73,
   "id": "8b6963f5",
   "metadata": {},
   "outputs": [
    {
     "name": "stderr",
     "output_type": "stream",
     "text": [
      "2025-05-13 11:59:23 - DEBUG - This is a debug message\n",
      "2025-05-13 11:59:23 - INFO - This is an info message\n",
      "2025-05-13 11:59:23 - WARNING - This is a warning message\n",
      "2025-05-13 11:59:23 - ERROR - This is an error message\n",
      "2025-05-13 11:59:23 - CRITICAL - This is a critical message\n"
     ]
    }
   ],
   "source": [
    "# force=True is used to override the default logging configuration\n",
    "# and set the logging level to DEBUG\n",
    "# This wil run the .debug and .info methods\n",
    "logging.basicConfig(level=logging.DEBUG, format='%(asctime)s - %(levelname)s - %(message)s', datefmt='%Y-%m-%d %H:%M:%S', force=True)\n",
    "logging.debug(\"This is a debug message\")\n",
    "logging.info(\"This is an info message\")\n",
    "logging.warning(\"This is a warning message\")\n",
    "logging.error(\"This is an error message\")\n",
    "logging.critical(\"This is a critical message\")"
   ]
  },
  {
   "cell_type": "code",
   "execution_count": 74,
   "id": "a24381d7",
   "metadata": {},
   "outputs": [
    {
     "name": "stderr",
     "output_type": "stream",
     "text": [
      "2025-05-13 12:09:15 - INFO - Hello from the helper\n"
     ]
    }
   ],
   "source": [
    "logger = logging.getLogger(__name__)\n",
    "logger.info(\"Hello from the helper\")"
   ]
  },
  {
   "cell_type": "markdown",
   "id": "20cb392a",
   "metadata": {},
   "source": [
    "# JSON"
   ]
  },
  {
   "cell_type": "code",
   "execution_count": 13,
   "id": "36efe94e",
   "metadata": {},
   "outputs": [],
   "source": [
    "import json\n",
    "from json import JSONEncoder"
   ]
  },
  {
   "cell_type": "code",
   "execution_count": 3,
   "id": "df07b0f5",
   "metadata": {},
   "outputs": [],
   "source": [
    "person = {'name': 'John', 'age': 30, 'city': 'New York'}\n",
    "personJSON = json.dumps(person, indent = 4, sort_keys = True)"
   ]
  },
  {
   "cell_type": "code",
   "execution_count": 4,
   "id": "51447781",
   "metadata": {},
   "outputs": [
    {
     "data": {
      "text/plain": [
       "'{\\n    \"age\": 30,\\n    \"city\": \"New York\",\\n    \"name\": \"John\"\\n}'"
      ]
     },
     "execution_count": 4,
     "metadata": {},
     "output_type": "execute_result"
    }
   ],
   "source": [
    "personJSON"
   ]
  },
  {
   "cell_type": "code",
   "execution_count": 82,
   "id": "90bb2197",
   "metadata": {},
   "outputs": [],
   "source": [
    "with open('person.json', 'w') as f:\n",
    "    json.dump(person, f, indent = 4)"
   ]
  },
  {
   "cell_type": "code",
   "execution_count": 9,
   "id": "18e1075b",
   "metadata": {},
   "outputs": [
    {
     "data": {
      "text/plain": [
       "{'name': 'John', 'age': 30, 'city': 'New York'}"
      ]
     },
     "execution_count": 9,
     "metadata": {},
     "output_type": "execute_result"
    }
   ],
   "source": [
    "with open('person.json', 'r') as file:\n",
    "    person = json.load(file)\n",
    "\n",
    "person"
   ]
  },
  {
   "cell_type": "code",
   "execution_count": 5,
   "id": "db5ba249",
   "metadata": {},
   "outputs": [
    {
     "data": {
      "text/plain": [
       "{'age': 30, 'city': 'New York', 'name': 'John'}"
      ]
     },
     "execution_count": 5,
     "metadata": {},
     "output_type": "execute_result"
    }
   ],
   "source": [
    "person = json.loads(personJSON)\n",
    "person"
   ]
  },
  {
   "cell_type": "code",
   "execution_count": 12,
   "id": "4ac8be00",
   "metadata": {},
   "outputs": [
    {
     "data": {
      "text/plain": [
       "'{\"name\": \"Ishu\", \"age\": 27, \"User\": true}'"
      ]
     },
     "execution_count": 12,
     "metadata": {},
     "output_type": "execute_result"
    }
   ],
   "source": [
    "class User:\n",
    "    def __init__(self, name, age):\n",
    "        self.name = name\n",
    "        self.age = age\n",
    "\n",
    "user = User('Ishu', 27)\n",
    "\n",
    "def encode(o):\n",
    "    if isinstance(o, User):\n",
    "        return {'name': o.name, 'age': o.age, o.__class__.__name__: True}\n",
    "    else:\n",
    "        raise TypeError(\"Object of type user is not JSON serializable\")\n",
    "    \n",
    "\n",
    "userJSON = json.dumps(user, default= encode)\n",
    "userJSON"
   ]
  },
  {
   "cell_type": "code",
   "execution_count": 14,
   "id": "473d2ff9",
   "metadata": {},
   "outputs": [
    {
     "data": {
      "text/plain": [
       "'{\"name\": \"Ishu\", \"age\": 27, \"User\": true}'"
      ]
     },
     "execution_count": 14,
     "metadata": {},
     "output_type": "execute_result"
    }
   ],
   "source": [
    "class UserEncoder(JSONEncoder):\n",
    "    def default(self, o):\n",
    "        if isinstance(o, User):\n",
    "            return {'name': o.name, 'age': o.age, o.__class__.__name__: True}\n",
    "        return JSONEncoder.default(self, o)\n",
    "    \n",
    "userJSON = json.dumps(user, cls = UserEncoder)\n",
    "userJSON"
   ]
  },
  {
   "cell_type": "code",
   "execution_count": 17,
   "id": "9edc8190",
   "metadata": {},
   "outputs": [
    {
     "name": "stdout",
     "output_type": "stream",
     "text": [
      "<class '__main__.User'>\n"
     ]
    },
    {
     "data": {
      "text/plain": [
       "'Ishu'"
      ]
     },
     "execution_count": 17,
     "metadata": {},
     "output_type": "execute_result"
    }
   ],
   "source": [
    "def decode(dct):\n",
    "    if User.__name__ in dct:\n",
    "        return User(name = dct['name'], age = dct['age'])\n",
    "    return dct\n",
    "\n",
    "user = json.loads(userJSON, object_hook= decode)\n",
    "print(type(user))\n",
    "user.name"
   ]
  },
  {
   "cell_type": "markdown",
   "id": "d5c9c464",
   "metadata": {},
   "source": [
    "# RANDOM"
   ]
  },
  {
   "cell_type": "code",
   "execution_count": 1,
   "id": "27e362ae",
   "metadata": {},
   "outputs": [],
   "source": [
    "import random"
   ]
  },
  {
   "cell_type": "code",
   "execution_count": 2,
   "id": "3380e73c",
   "metadata": {},
   "outputs": [
    {
     "data": {
      "text/plain": [
       "0.6727372891425132"
      ]
     },
     "execution_count": 2,
     "metadata": {},
     "output_type": "execute_result"
    }
   ],
   "source": [
    "a = random.random()\n",
    "a"
   ]
  },
  {
   "cell_type": "code",
   "execution_count": 3,
   "id": "eba7608b",
   "metadata": {},
   "outputs": [
    {
     "data": {
      "text/plain": [
       "2.253546976298391"
      ]
     },
     "execution_count": 3,
     "metadata": {},
     "output_type": "execute_result"
    }
   ],
   "source": [
    "a = random.uniform(0, 3)\n",
    "a"
   ]
  },
  {
   "cell_type": "code",
   "execution_count": null,
   "id": "29e65f4e",
   "metadata": {},
   "outputs": [
    {
     "name": "stdout",
     "output_type": "stream",
     "text": [
      "1\n"
     ]
    }
   ],
   "source": [
    "a = random.randint(0, 10) # Includes Upper Bound\n",
    "print(a)"
   ]
  },
  {
   "cell_type": "code",
   "execution_count": 10,
   "id": "ceb3a023",
   "metadata": {},
   "outputs": [
    {
     "data": {
      "text/plain": [
       "-2.820246212571695"
      ]
     },
     "execution_count": 10,
     "metadata": {},
     "output_type": "execute_result"
    }
   ],
   "source": [
    "a = random.normalvariate(0.2, 5) # Random value from normal distribution with mean = 0 & S.D = 1\n",
    "a"
   ]
  },
  {
   "cell_type": "code",
   "execution_count": 12,
   "id": "7f1a13f4",
   "metadata": {},
   "outputs": [
    {
     "data": {
      "text/plain": [
       "'B'"
      ]
     },
     "execution_count": 12,
     "metadata": {},
     "output_type": "execute_result"
    }
   ],
   "source": [
    "l = list(\"ABCDEFGHIJKLMNOP\")\n",
    "a = random.choice(l)\n",
    "a"
   ]
  },
  {
   "cell_type": "code",
   "execution_count": 13,
   "id": "03b28573",
   "metadata": {},
   "outputs": [
    {
     "data": {
      "text/plain": [
       "['H', 'I', 'K']"
      ]
     },
     "execution_count": 13,
     "metadata": {},
     "output_type": "execute_result"
    }
   ],
   "source": [
    "l = list(\"ABCDEFGHIJKLMNOP\")\n",
    "a = random.sample(l, 3)\n",
    "a"
   ]
  },
  {
   "cell_type": "code",
   "execution_count": 14,
   "id": "bcbac2c2",
   "metadata": {},
   "outputs": [
    {
     "data": {
      "text/plain": [
       "['D', 'D', 'M']"
      ]
     },
     "execution_count": 14,
     "metadata": {},
     "output_type": "execute_result"
    }
   ],
   "source": [
    "l = list(\"ABCDEFGHIJKLMNOP\")\n",
    "a = random.choices(l, k = 3)\n",
    "a"
   ]
  },
  {
   "cell_type": "code",
   "execution_count": 17,
   "id": "8f3519b8",
   "metadata": {},
   "outputs": [
    {
     "data": {
      "text/plain": [
       "['G',\n",
       " 'D',\n",
       " 'P',\n",
       " 'F',\n",
       " 'J',\n",
       " 'I',\n",
       " 'E',\n",
       " 'K',\n",
       " 'C',\n",
       " 'O',\n",
       " 'N',\n",
       " 'H',\n",
       " 'A',\n",
       " 'L',\n",
       " 'M',\n",
       " 'B']"
      ]
     },
     "execution_count": 17,
     "metadata": {},
     "output_type": "execute_result"
    }
   ],
   "source": [
    "l = list(\"ABCDEFGHIJKLMNOP\")\n",
    "random.shuffle(l)\n",
    "l"
   ]
  },
  {
   "cell_type": "code",
   "execution_count": 18,
   "id": "201778aa",
   "metadata": {},
   "outputs": [
    {
     "name": "stdout",
     "output_type": "stream",
     "text": [
      "0.13436424411240122\n",
      "2\n",
      "0.23796462709189137\n",
      "9\n"
     ]
    }
   ],
   "source": [
    "random.seed(1)\n",
    "print(random.random())\n",
    "print(random.randint(1, 10))\n",
    "\n",
    "random.seed(3)\n",
    "print(random.random())\n",
    "print(random.randint(1, 10))"
   ]
  },
  {
   "cell_type": "code",
   "execution_count": 19,
   "id": "b4934966",
   "metadata": {},
   "outputs": [],
   "source": [
    "import secrets"
   ]
  },
  {
   "cell_type": "code",
   "execution_count": 20,
   "id": "1fcb6ca1",
   "metadata": {},
   "outputs": [
    {
     "data": {
      "text/plain": [
       "2"
      ]
     },
     "execution_count": 20,
     "metadata": {},
     "output_type": "execute_result"
    }
   ],
   "source": [
    "a = secrets.randbelow(10)\n",
    "a"
   ]
  },
  {
   "cell_type": "code",
   "execution_count": 23,
   "id": "79741d9d",
   "metadata": {},
   "outputs": [
    {
     "data": {
      "text/plain": [
       "7"
      ]
     },
     "execution_count": 23,
     "metadata": {},
     "output_type": "execute_result"
    }
   ],
   "source": [
    "a = secrets.randbits(4)\n",
    "a"
   ]
  },
  {
   "cell_type": "code",
   "execution_count": 24,
   "id": "8837a036",
   "metadata": {},
   "outputs": [
    {
     "data": {
      "text/plain": [
       "'N'"
      ]
     },
     "execution_count": 24,
     "metadata": {},
     "output_type": "execute_result"
    }
   ],
   "source": [
    "l = list(\"ABCSFDN\")\n",
    "a = secrets.choice(l)\n",
    "a"
   ]
  },
  {
   "cell_type": "markdown",
   "id": "50bf815e",
   "metadata": {},
   "source": [
    "# DECORATORS"
   ]
  },
  {
   "cell_type": "markdown",
   "id": "a2c11aba",
   "metadata": {},
   "source": [
    "## Function Decorator\n",
    "\n",
    "It is a function that takes another function as argument and extends the behaviour of this function without explicitly modifying it."
   ]
  },
  {
   "cell_type": "code",
   "execution_count": 2,
   "id": "ee57acff",
   "metadata": {},
   "outputs": [
    {
     "name": "stdout",
     "output_type": "stream",
     "text": [
      "Start\n",
      "Ishu\n",
      "End\n"
     ]
    }
   ],
   "source": [
    "# @myDecorator\n",
    "# def dosomething():\n",
    "#     pass\n",
    "\n",
    "def start_end_decorator(func):\n",
    "    def wrapper():\n",
    "        print(\"Start\")\n",
    "        func()\n",
    "        print(\"End\")\n",
    "    return wrapper\n",
    "\n",
    "@start_end_decorator\n",
    "def print_name():\n",
    "    print(\"Ishu\")\n",
    "\n",
    "print_name()"
   ]
  },
  {
   "cell_type": "code",
   "execution_count": 3,
   "id": "8c2771cc",
   "metadata": {},
   "outputs": [
    {
     "name": "stdout",
     "output_type": "stream",
     "text": [
      "Start\n",
      "Start\n",
      "Ishu\n",
      "End\n",
      "End\n"
     ]
    }
   ],
   "source": [
    "print_name = start_end_decorator(print_name) # The decorator will replace this line\n",
    "print_name()"
   ]
  },
  {
   "cell_type": "code",
   "execution_count": 8,
   "id": "b1c80c58",
   "metadata": {},
   "outputs": [
    {
     "name": "stdout",
     "output_type": "stream",
     "text": [
      "Start\n",
      "End\n",
      "15\n",
      "add\n"
     ]
    }
   ],
   "source": [
    "import functools\n",
    "# Function with arguments\n",
    "\n",
    "def start_end_decorator(func):\n",
    "    # args and kwargs helps so that we can use as many arguments and keyword arguments as we want.\n",
    "    @functools.wraps(func)\n",
    "    def wrapper(*args, **kwargs): \n",
    "        print(\"Start\")\n",
    "        res = func(*args, **kwargs)\n",
    "        print(\"End\")\n",
    "        return res\n",
    "    return wrapper\n",
    "\n",
    "@start_end_decorator\n",
    "def add(x):\n",
    "    return x + 5\n",
    "\n",
    "res = add(10)\n",
    "print(res)\n",
    "\n",
    "print(add.__name__)"
   ]
  },
  {
   "cell_type": "code",
   "execution_count": 11,
   "id": "a43fe4e0",
   "metadata": {},
   "outputs": [
    {
     "name": "stdout",
     "output_type": "stream",
     "text": [
      "Hello, Ishu\n",
      "Hello, Ishu\n",
      "Hello, Ishu\n"
     ]
    }
   ],
   "source": [
    "# Repeat decorator\n",
    "def repeat(num_times):\n",
    "    def decorator_rep(func):\n",
    "        @functools.wraps(func)\n",
    "        def wrapper(*args, **kwargs):\n",
    "            for _ in range(num_times):\n",
    "                res = func(*args, **kwargs)\n",
    "            return res\n",
    "        return wrapper\n",
    "    return decorator_rep\n",
    "\n",
    "@repeat(3)\n",
    "def greet(name):\n",
    "    print(f\"Hello, {name}\")\n",
    "\n",
    "greet(\"Ishu\")"
   ]
  },
  {
   "cell_type": "markdown",
   "id": "ac869ef4",
   "metadata": {},
   "source": [
    "## Class Decorator\n",
    "\n",
    "It works similar work to function decorator but it's typically used if we want to maintain and update a state."
   ]
  },
  {
   "cell_type": "code",
   "execution_count": 14,
   "id": "ad0481df",
   "metadata": {},
   "outputs": [
    {
     "name": "stdout",
     "output_type": "stream",
     "text": [
      "This is executed 1 times\n",
      "Hello\n",
      "This is executed 2 times\n",
      "Hello\n"
     ]
    }
   ],
   "source": [
    "class CountCalls:\n",
    "    def __init__(self, func):\n",
    "        self.func = func\n",
    "        self.num_calls = 0\n",
    "    \n",
    "    def __call__(self, *args, **kwargs):\n",
    "        self.num_calls += 1\n",
    "        print(f\"This is executed {self.num_calls} times\")\n",
    "        return self.func(*args, **kwargs)\n",
    "\n",
    "\n",
    "@CountCalls\n",
    "def hello():\n",
    "    print(\"Hello\")\n",
    "\n",
    "hello()\n",
    "hello()"
   ]
  },
  {
   "cell_type": "code",
   "execution_count": 15,
   "id": "f29ab1d3",
   "metadata": {},
   "outputs": [
    {
     "name": "stdout",
     "output_type": "stream",
     "text": [
      "This is executed 3 times\n",
      "Hello\n"
     ]
    }
   ],
   "source": [
    "hello()"
   ]
  },
  {
   "cell_type": "markdown",
   "id": "2a885d4a",
   "metadata": {},
   "source": [
    "# GENERATORS\n",
    "\n",
    "These are very memory efficient and can be used for large data."
   ]
  },
  {
   "cell_type": "code",
   "execution_count": null,
   "id": "3d1f539a",
   "metadata": {},
   "outputs": [
    {
     "name": "stdout",
     "output_type": "stream",
     "text": [
      "1\n"
     ]
    }
   ],
   "source": [
    "def mygenerator():\n",
    "    yield 1\n",
    "    yield 2\n",
    "    yield 3\n",
    "\n",
    "g = mygenerator()\n",
    "val = next(g) # Repeat it for the other numbers.\n",
    "print(val)"
   ]
  },
  {
   "cell_type": "code",
   "execution_count": 18,
   "id": "2d2747e4",
   "metadata": {},
   "outputs": [
    {
     "data": {
      "text/plain": [
       "[2, 3]"
      ]
     },
     "execution_count": 18,
     "metadata": {},
     "output_type": "execute_result"
    }
   ],
   "source": [
    "sorted(g)"
   ]
  },
  {
   "cell_type": "code",
   "execution_count": 19,
   "id": "731940db",
   "metadata": {},
   "outputs": [],
   "source": [
    "def countdown(s):\n",
    "    print(\"Starting\")\n",
    "    while s > 0:\n",
    "        yield s\n",
    "        s -= 1\n",
    "\n",
    "cd = countdown(4)"
   ]
  },
  {
   "cell_type": "code",
   "execution_count": 20,
   "id": "6aa0cd52",
   "metadata": {},
   "outputs": [
    {
     "name": "stdout",
     "output_type": "stream",
     "text": [
      "Starting\n"
     ]
    },
    {
     "data": {
      "text/plain": [
       "4"
      ]
     },
     "execution_count": 20,
     "metadata": {},
     "output_type": "execute_result"
    }
   ],
   "source": [
    "val = next(cd)\n",
    "val"
   ]
  },
  {
   "cell_type": "code",
   "execution_count": 21,
   "id": "5871779b",
   "metadata": {},
   "outputs": [
    {
     "name": "stdout",
     "output_type": "stream",
     "text": [
      "3\n"
     ]
    }
   ],
   "source": [
    "print(next(cd))"
   ]
  },
  {
   "cell_type": "code",
   "execution_count": 22,
   "id": "dcab0af3",
   "metadata": {},
   "outputs": [
    {
     "name": "stdout",
     "output_type": "stream",
     "text": [
      "2\n"
     ]
    }
   ],
   "source": [
    "print(next(cd))"
   ]
  },
  {
   "cell_type": "code",
   "execution_count": 23,
   "id": "eb4a5a5b",
   "metadata": {},
   "outputs": [
    {
     "name": "stdout",
     "output_type": "stream",
     "text": [
      "1\n"
     ]
    }
   ],
   "source": [
    "print(next(cd))"
   ]
  },
  {
   "cell_type": "code",
   "execution_count": 24,
   "id": "35a151e2",
   "metadata": {},
   "outputs": [
    {
     "name": "stdout",
     "output_type": "stream",
     "text": [
      "[0, 1, 2, 3, 4, 5, 6, 7, 8, 9]\n"
     ]
    }
   ],
   "source": [
    "def firstn(n):\n",
    "    nums = []\n",
    "    s = 0\n",
    "    while s < n:\n",
    "        nums.append(s)\n",
    "        s  += 1\n",
    "    return nums\n",
    "\n",
    "print(firstn(10))"
   ]
  },
  {
   "cell_type": "code",
   "execution_count": 26,
   "id": "b0466879",
   "metadata": {},
   "outputs": [],
   "source": [
    "import sys"
   ]
  },
  {
   "cell_type": "code",
   "execution_count": 28,
   "id": "cca4afc2",
   "metadata": {},
   "outputs": [
    {
     "name": "stdout",
     "output_type": "stream",
     "text": [
      "184\n",
      "104\n"
     ]
    }
   ],
   "source": [
    "# Using generator instead\n",
    "def firstN(n):\n",
    "    s = 0\n",
    "    while s < n:\n",
    "        yield s\n",
    "        s += 1\n",
    "\n",
    "print(sys.getsizeof(firstn(10)))\n",
    "print(sys.getsizeof(firstN(10)))"
   ]
  },
  {
   "cell_type": "code",
   "execution_count": 29,
   "id": "c24ed973",
   "metadata": {},
   "outputs": [
    {
     "name": "stdout",
     "output_type": "stream",
     "text": [
      "0\n",
      "1\n",
      "1\n",
      "2\n",
      "3\n",
      "5\n",
      "8\n",
      "13\n",
      "21\n"
     ]
    }
   ],
   "source": [
    "def fibo(limit):\n",
    "    a, b = 0, 1\n",
    "    while a < limit:\n",
    "        yield a\n",
    "        a, b = b, a + b\n",
    "\n",
    "fib = fibo(30)\n",
    "for i in fib:\n",
    "    print(i)"
   ]
  },
  {
   "cell_type": "code",
   "execution_count": null,
   "id": "869e3e1c",
   "metadata": {},
   "outputs": [
    {
     "name": "stdout",
     "output_type": "stream",
     "text": [
      "0\n",
      "2\n",
      "4\n",
      "6\n",
      "8\n"
     ]
    }
   ],
   "source": [
    "mygen = (i for i in range(10) if i % 2 == 0) # () for generator and [] for list\n",
    "for i in mygen:\n",
    "    print(i)"
   ]
  },
  {
   "cell_type": "markdown",
   "id": "43265a49",
   "metadata": {},
   "source": [
    "# MULTIPROCESSING"
   ]
  },
  {
   "cell_type": "code",
   "execution_count": 79,
   "id": "9efc4838",
   "metadata": {},
   "outputs": [],
   "source": [
    "from multiprocessing import Process, Value, Array, Lock, Queue, Pool\n",
    "import os\n",
    "import time"
   ]
  },
  {
   "cell_type": "code",
   "execution_count": 35,
   "id": "d8cefe94",
   "metadata": {},
   "outputs": [
    {
     "name": "stdout",
     "output_type": "stream",
     "text": [
      "End main\n"
     ]
    }
   ],
   "source": [
    "processes = []\n",
    "num_processes = os.cpu_count()\n",
    "\n",
    "def square_nums():\n",
    "    for i in range(100):\n",
    "        i * i\n",
    "        time.sleep(0.1)\n",
    "\n",
    "# Create processes\n",
    "for i in range(num_processes):\n",
    "    p = Process(target = square_nums)\n",
    "    processes.append(p)\n",
    "\n",
    "# start\n",
    "for p in processes:\n",
    "    p.start()\n",
    "\n",
    "# Join\n",
    "for p in processes:\n",
    "    p.join()\n",
    "\n",
    "print(\"End main\")"
   ]
  },
  {
   "cell_type": "code",
   "execution_count": 71,
   "id": "c5edf8b6",
   "metadata": {},
   "outputs": [
    {
     "name": "stdout",
     "output_type": "stream",
     "text": [
      "Number at beginning is:  0\n",
      "Number at ending is:  200\n"
     ]
    }
   ],
   "source": [
    "def add100(num, lock):\n",
    "    for i in range(100):\n",
    "        time.sleep(0.01)\n",
    "        # lock.acquire()\n",
    "        with lock:\n",
    "            num.value += 1\n",
    "        # lock.release()\n",
    "\n",
    "if __name__ == \"__main__\":\n",
    "    lock = Lock()\n",
    "    shared = Value('i', 0)\n",
    "    print(\"Number at beginning is: \", shared.value)\n",
    "    p1 = Process(target = add100, args = (shared, lock))\n",
    "    p2 = Process(target = add100, args = (shared, lock))\n",
    "\n",
    "    p1.start()\n",
    "    p2.start()\n",
    "\n",
    "    p1.join()\n",
    "    p2.join()\n",
    "\n",
    "    print(\"Number at ending is: \", shared.value)"
   ]
  },
  {
   "cell_type": "code",
   "execution_count": 75,
   "id": "ec020146",
   "metadata": {},
   "outputs": [
    {
     "name": "stdout",
     "output_type": "stream",
     "text": [
      "Array at beginning is:  [0.0, 100.0, 200.0]\n",
      "Number at ending is:  [200.0, 300.0, 400.0]\n"
     ]
    }
   ],
   "source": [
    "# For arrays\n",
    "\n",
    "def add100(num, lock):\n",
    "    for i in range(100):\n",
    "        time.sleep(0.01)\n",
    "        for i in range(len(num)):\n",
    "            with lock:\n",
    "                num[i] += 1\n",
    "\n",
    "if __name__ == \"__main__\":\n",
    "    lock = Lock()\n",
    "    shared = Array('d', [0.0, 100.0, 200.0])\n",
    "    print(\"Array at beginning is: \", shared[:])\n",
    "    p1 = Process(target = add100, args = (shared, lock))\n",
    "    p2 = Process(target = add100, args = (shared, lock))\n",
    "\n",
    "    p1.start()\n",
    "    p2.start()\n",
    "\n",
    "    p1.join()\n",
    "    p2.join()\n",
    "\n",
    "    print(\"Number at ending is: \", shared[:])"
   ]
  },
  {
   "cell_type": "code",
   "execution_count": 78,
   "id": "b3fc68ac",
   "metadata": {},
   "outputs": [
    {
     "name": "stdout",
     "output_type": "stream",
     "text": [
      "1\n",
      "4\n",
      "9\n",
      "16\n",
      "25\n",
      "-1\n",
      "-2\n",
      "-3\n",
      "-4\n",
      "-5\n"
     ]
    }
   ],
   "source": [
    "def square(num, queue):\n",
    "    for i in num:\n",
    "        queue.put(i * i)\n",
    "\n",
    "def negative(num, queue):\n",
    "    for i in num:\n",
    "        queue.put(-1 * i)\n",
    "\n",
    "if __name__ == \"__main__\":\n",
    "    q = Queue()\n",
    "    num = range(1, 6)\n",
    "    p1 = Process(target=square, args = (num, q))\n",
    "    p2 = Process(target = negative, args = (num, q))\n",
    "\n",
    "    p1.start()\n",
    "    p2.start()\n",
    "\n",
    "    p1.join()\n",
    "    p2.join()\n",
    "\n",
    "    while not q.empty():\n",
    "        print(q.get())\n"
   ]
  },
  {
   "cell_type": "code",
   "execution_count": 85,
   "id": "7f9cd5fc",
   "metadata": {},
   "outputs": [],
   "source": [
    "# Process Pool\n",
    "\n",
    "def cube(num):\n",
    "    return num * num * num\n",
    "\n",
    "if __name__ == \"_main__\":\n",
    "    pool = Pool()\n",
    "    numbers = range(10)\n",
    "\n",
    "    # map, apply, join, close\n",
    "    res = pool.map(cube, numbers)\n",
    "    print(res)\n",
    "    pool.apply(cube, numbers[0])\n",
    "    pool.close()\n",
    "    pool.join()"
   ]
  },
  {
   "cell_type": "markdown",
   "id": "6d566b9e",
   "metadata": {},
   "source": [
    "# MULTITHREADING"
   ]
  },
  {
   "cell_type": "code",
   "execution_count": 40,
   "id": "6667ecaf",
   "metadata": {},
   "outputs": [],
   "source": [
    "def square_nums():\n",
    "    for i in range(100):\n",
    "        i * i\n",
    "        time.sleep(0.1)"
   ]
  },
  {
   "cell_type": "code",
   "execution_count": 53,
   "id": "8cbbef9e",
   "metadata": {},
   "outputs": [],
   "source": [
    "from threading import Thread, Lock, current_thread\n",
    "import os\n",
    "import time"
   ]
  },
  {
   "cell_type": "code",
   "execution_count": null,
   "id": "37671653",
   "metadata": {},
   "outputs": [
    {
     "name": "stdout",
     "output_type": "stream",
     "text": [
      "End main\n"
     ]
    }
   ],
   "source": [
    "threads = []\n",
    "num_threads = os.cpu_count()\n",
    "\n",
    "# Create threads\n",
    "for i in range(num_threads):\n",
    "    p = Thread(target = square_nums)\n",
    "    threads.append(p)\n",
    "\n",
    "# start threads\n",
    "for t in threads:\n",
    "    t.start()\n",
    "\n",
    "# Join threads: wait for them to complete\n",
    "for t in threads:\n",
    "    t.join()\n",
    "\n",
    "print(\"End main\")"
   ]
  },
  {
   "cell_type": "code",
   "execution_count": 88,
   "id": "7084176c",
   "metadata": {},
   "outputs": [],
   "source": [
    "from queue import Queue"
   ]
  },
  {
   "cell_type": "code",
   "execution_count": 46,
   "id": "2dd3664d",
   "metadata": {},
   "outputs": [
    {
     "name": "stdout",
     "output_type": "stream",
     "text": [
      "Start value: 0\n",
      "End value 2\n",
      "End main\n"
     ]
    }
   ],
   "source": [
    "database_value = 0\n",
    "\n",
    "def increase(lock):\n",
    "    global database_value\n",
    "\n",
    "    # lock.acquire()\n",
    "    with lock:\n",
    "        local_copy = database_value\n",
    "        \n",
    "        # Processing\n",
    "        local_copy += 1\n",
    "        time.sleep(0.1) # Switches to thread2 from thread1 and vice versa\n",
    "        database_value = local_copy\n",
    "    # lock.release()\n",
    "\n",
    "if __name__ == \"__main__\":\n",
    "    lock = Lock()\n",
    "    print(\"Start value:\", database_value)\n",
    "    thread1 = Thread(target = increase, args = (lock,))\n",
    "    thread2 = Thread(target = increase, args = (lock,))\n",
    "    thread1.start()\n",
    "    thread2.start()\n",
    "    thread1.join()\n",
    "    thread2.join()\n",
    "\n",
    "    print(\"End value\", database_value)\n",
    "    print(\"End main\")"
   ]
  },
  {
   "cell_type": "code",
   "execution_count": 52,
   "id": "3834e3c2",
   "metadata": {},
   "outputs": [
    {
     "name": "stdout",
     "output_type": "stream",
     "text": [
      "1\n",
      "End Main\n"
     ]
    }
   ],
   "source": [
    "if __name__ == \"__main__\":\n",
    "    q = Queue()\n",
    "\n",
    "    q.put(1)\n",
    "    q.put(2)\n",
    "    q.put(3)\n",
    "\n",
    "    # 3 2 1 -->\n",
    "    print(q.get()) # 1\n",
    "\n",
    "    q.task_done()\n",
    "    # q.join()\n",
    "\n",
    "    print(\"End Main\")\n"
   ]
  },
  {
   "cell_type": "code",
   "execution_count": 89,
   "id": "c3bc5390",
   "metadata": {},
   "outputs": [
    {
     "name": "stdout",
     "output_type": "stream",
     "text": [
      "in Thread-1280 (worker) got 1\n",
      "in Thread-1280 (worker) got 2\n",
      "in Thread-1280 (worker) got 3\n",
      "in Thread-1280 (worker) got 4\n",
      "in Thread-1280 (worker) got 5\n",
      "in Thread-1280 (worker) got 6\n",
      "in Thread-1280 (worker) got 7\n",
      "in Thread-1280 (worker) got 8\n",
      "in Thread-1280 (worker) got 9\n",
      "in Thread-1280 (worker) got 10\n",
      "in Thread-1280 (worker) got 11\n",
      "in Thread-1280 (worker) got 12\n",
      "in Thread-1280 (worker) got 13\n",
      "in Thread-1280 (worker) got 14\n",
      "in Thread-1280 (worker) got 15\n",
      "in Thread-1280 (worker) got 16\n",
      "in Thread-1280 (worker) got 17\n",
      "in Thread-1280 (worker) got 18\n",
      "in Thread-1280 (worker) got 19\n",
      "in Thread-1280 (worker) got 20\n",
      "End main\n"
     ]
    }
   ],
   "source": [
    "def worker(q, lock):\n",
    "    while True:\n",
    "        val = q.get()\n",
    "        with lock:\n",
    "            # Processing\n",
    "            print(f\"in {current_thread().name} got {val}\")\n",
    "        q.task_done()\n",
    "\n",
    "if __name__ == \"__main__\":\n",
    "    q = Queue()\n",
    "    numT = 10\n",
    "    for i in range(numT):\n",
    "        thread = Thread(target = worker, args = (q, lock))\n",
    "        thread.daemon = True # Background thread which dies when main thread\n",
    "        thread.start()\n",
    "    \n",
    "    for i in range(1, 21):\n",
    "        q.put(i)\n",
    "    \n",
    "    q.join()\n",
    "    print(\"End main\")"
   ]
  },
  {
   "cell_type": "markdown",
   "id": "1b73998a",
   "metadata": {},
   "source": [
    "# CONTEXT MANAGER"
   ]
  },
  {
   "cell_type": "code",
   "execution_count": 94,
   "id": "c2b00fa4",
   "metadata": {},
   "outputs": [
    {
     "name": "stdout",
     "output_type": "stream",
     "text": [
      "init\n",
      "Enter\n",
      "Do Something\n",
      "Exception has been handled.\n",
      "exit\n",
      "Continuing\n"
     ]
    }
   ],
   "source": [
    "class ManagedFile:\n",
    "    def __init__(self, filename):\n",
    "        print(\"init\")\n",
    "        self.filename = filename\n",
    "    \n",
    "    def __enter__(self):\n",
    "        print(\"Enter\")\n",
    "        self.file = open(self.filename, 'w')\n",
    "        return self.file\n",
    "\n",
    "    def __exit__(self, exc_type, exc_value, exc_traceback):\n",
    "        if self.file:\n",
    "            self.file.close()\n",
    "        if exc_type is not None: # Checks the exception\n",
    "            print(\"Exception has been handled.\")\n",
    "        print(\"exit\")\n",
    "        return True\n",
    "\n",
    "with ManagedFile('notes.txt') as file:\n",
    "    print(\"Do Something\")\n",
    "    file.write(\"Something to do\")\n",
    "    file.somemethod() # For checking an exception\n",
    "\n",
    "print(\"Continuing\")"
   ]
  },
  {
   "cell_type": "code",
   "execution_count": 95,
   "id": "0aafff31",
   "metadata": {},
   "outputs": [],
   "source": [
    "from contextlib import contextmanager"
   ]
  },
  {
   "cell_type": "code",
   "execution_count": 96,
   "id": "52ac4843",
   "metadata": {},
   "outputs": [],
   "source": [
    "@contextmanager\n",
    "def open_managed_file(filename):\n",
    "    f = open(filename, 'w')\n",
    "    try:\n",
    "        yield f\n",
    "    finally:\n",
    "        f.close()\n",
    "\n",
    "with open_managed_file('notes.txt') as f:\n",
    "    f.write(\"Something to do...\")"
   ]
  },
  {
   "cell_type": "code",
   "execution_count": null,
   "id": "52284a21",
   "metadata": {},
   "outputs": [],
   "source": []
  }
 ],
 "metadata": {
  "kernelspec": {
   "display_name": "Python 3",
   "language": "python",
   "name": "python3"
  },
  "language_info": {
   "codemirror_mode": {
    "name": "ipython",
    "version": 3
   },
   "file_extension": ".py",
   "mimetype": "text/x-python",
   "name": "python",
   "nbconvert_exporter": "python",
   "pygments_lexer": "ipython3",
   "version": "3.10.12"
  }
 },
 "nbformat": 4,
 "nbformat_minor": 5
}
